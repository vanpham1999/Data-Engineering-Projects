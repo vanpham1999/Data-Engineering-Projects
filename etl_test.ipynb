{
 "cells": [
  {
   "cell_type": "code",
   "execution_count": 23,
   "id": "98be58fd",
   "metadata": {},
   "outputs": [
    {
     "name": "stdout",
     "output_type": "stream",
     "text": [
      "['used_car_prices1.csv', 'used_car_prices2.csv', 'used_car_prices3.csv']\n",
      "\n",
      "       car_model  year_of_manufacture         price    fuel\n",
      "0           ritz                 2014   5000.000000  Petrol\n",
      "1            sx4                 2013   7089.552239  Diesel\n",
      "2           ciaz                 2017  10820.895522  Petrol\n",
      "3        wagon r                 2011   4253.731343  Petrol\n",
      "4          swift                 2014   6865.671642  Diesel\n",
      "5  vitara brezza                 2018  13805.970149  Diesel\n",
      "6           ciaz                 2015  10074.626866  Petrol\n",
      "7        s cross                 2015   9701.492537  Diesel\n",
      "8           ciaz                 2016  13059.701493  Diesel\n",
      "9           ciaz                 2015  11119.402985  Diesel\n"
     ]
    }
   ],
   "source": [
    "import pandas as pd\n",
    "import glob\n",
    "\n",
    "#Using glob to look at all the csv files\n",
    "csv_files = glob.glob(\"*.csv\")\n",
    "print(csv_files)\n",
    "print(\"\")\n",
    "#Looking at one csv file\n",
    "csv_file = pd.read_csv(\"used_car_prices1.csv\")\n",
    "print(csv_file)\n"
   ]
  },
  {
   "cell_type": "code",
   "execution_count": 25,
   "id": "f0c5d214",
   "metadata": {},
   "outputs": [
    {
     "name": "stdout",
     "output_type": "stream",
     "text": [
      "['used_car_prices1.json', 'used_car_prices2.json', 'used_car_prices3.json']\n",
      "\n",
      "       {\"car_model\":\"ritz\"  year_of_manufacture:2012  price:4626.8656716418  \\\n",
      "0      {\"car_model\":\"ritz\"  year_of_manufacture:2011  price:3507.4626865672   \n",
      "1     {\"car_model\":\"swift\"  year_of_manufacture:2014  price:7388.0597014925   \n",
      "2    {\"car_model\":\"ertiga\"  year_of_manufacture:2014   price:8955.223880597   \n",
      "3     {\"car_model\":\"dzire\"  year_of_manufacture:2014  price:8208.9552238806   \n",
      "4       {\"car_model\":\"sx4\"  year_of_manufacture:2011  price:4402.9850746269   \n",
      "5     {\"car_model\":\"dzire\"  year_of_manufacture:2015  price:6940.2985074627   \n",
      "6       {\"car_model\":\"800\"  year_of_manufacture:2003   price:522.3880597015   \n",
      "7  {\"car_model\":\"alto k10\"  year_of_manufacture:2016  price:4477.6119402985   \n",
      "8       {\"car_model\":\"sx4\"  year_of_manufacture:2003  price:3358.2089552239   \n",
      "\n",
      "   fuel:\"Diesel\"}  \n",
      "0  fuel:\"Petrol\"}  \n",
      "1  fuel:\"Diesel\"}  \n",
      "2  fuel:\"Diesel\"}  \n",
      "3  fuel:\"Diesel\"}  \n",
      "4     fuel:\"CNG\"}  \n",
      "5  fuel:\"Petrol\"}  \n",
      "6  fuel:\"Petrol\"}  \n",
      "7  fuel:\"Petrol\"}  \n",
      "8  fuel:\"Petrol\"}  \n"
     ]
    }
   ],
   "source": [
    "#Using glob to look at all the json files\n",
    "csv_files = glob.glob(\"*.json\")\n",
    "print(csv_files)\n",
    "print(\"\")\n",
    "#Looking at one json file\n",
    "csv_file = pd.read_csv(\"used_car_prices1.json\")\n",
    "print(csv_file)"
   ]
  },
  {
   "cell_type": "code",
   "execution_count": 26,
   "id": "091178cb",
   "metadata": {},
   "outputs": [
    {
     "name": "stdout",
     "output_type": "stream",
     "text": [
      "['used_car_prices1.xml', 'used_car_prices2.xml', 'used_car_prices3.xml']\n",
      "\n",
      "              <?xml version=\"1.0\" encoding=\"UTF-8\" ?>\n",
      "0                                              <root>\n",
      "1                                               <row>\n",
      "2                <car_model>corolla altis</car_model>\n",
      "3       <year_of_manufacture>2013</year_of_manufac...\n",
      "4                   <price>10373.134328358208</price>\n",
      "..                                                ...\n",
      "57      <year_of_manufacture>2016</year_of_manufac...\n",
      "58                   <price>21268.65671641791</price>\n",
      "59                                <fuel>Petrol</fuel>\n",
      "60                                             </row>\n",
      "61                                            </root>\n",
      "\n",
      "[62 rows x 1 columns]\n"
     ]
    }
   ],
   "source": [
    "#Using glob to look at all the xml files\n",
    "csv_files = glob.glob(\"*.xml\")\n",
    "print(csv_files)\n",
    "print(\"\")\n",
    "#Looking at one json file\n",
    "csv_file = pd.read_csv(\"used_car_prices1.xml\")\n",
    "print(csv_file)"
   ]
  },
  {
   "cell_type": "code",
   "execution_count": 35,
   "id": "8fd06a54",
   "metadata": {},
   "outputs": [],
   "source": [
    "#Function to read csv files\n",
    "def extract_from_csv(file_to_process):\n",
    "    dataframe = pd.read_csv(file_to_process)\n",
    "    return dataframe\n",
    "\n",
    "#Function to read json files\n",
    "def extract_from_json(file_to_process):\n",
    "    dataframe = pd.read_json(file_to_process, lines = True)\n",
    "    return dataframe\n",
    "\n",
    "#Use xml.etree.ElementTree to read xml \n",
    "import xml.etree.ElementTree as ET\n",
    "\n",
    "def extract_from_xml(file_to_process):\n",
    "    dataframe = pd.DataFrame(columns=[\"car_model\",\"year_of_manufacture\",\"price\",\"fuel\"])\n",
    "    tree = ET.parse(file_to_process)\n",
    "    root = tree.getroot()\n",
    "#Loop through each car    \n",
    "    for car in root:\n",
    "        car_model = car.find(\"car_model\").text\n",
    "        year_of_manufacture = car.find(\"year_of_manufacture\").text\n",
    "        price = float(car.find(\"price\").text)\n",
    "        fuel = car.find(\"fuel\").text\n",
    "        dataframe = pd.concat([dataframe, pd.DataFrame([{\"car_model\":car_model,\"year_of_manufacture\":year_of_manufacture, \"price\":price,\"fuel\": fuel}])], ignore_index=True) \n",
    "        return dataframe    "
   ]
  },
  {
   "cell_type": "code",
   "execution_count": 31,
   "id": "15056aad",
   "metadata": {},
   "outputs": [],
   "source": [
    "log_file = \"log_file.txt\" #Logging process\n",
    "target_file = \"transformed_data.csv\" #Finale data \n",
    "\n",
    "#Function to extract\n",
    "def extract(): \n",
    "    extracted_data = pd.DataFrame(columns=[\"car_model\",\"year_of_manufacture\",\"price\",\"fuel\"])  # create an empty data frame to hold extracted data\n",
    "     \n",
    "    # process all csv files, except the target file\n",
    "    for csvfile in glob.glob(\"*.csv\"): \n",
    "        if csvfile != target_file:  # check if the file is not the target file\n",
    "            extracted_data = pd.concat([extracted_data, pd.DataFrame(extract_from_csv(csvfile))], ignore_index=True) \n",
    "         \n",
    "    # process all json files \n",
    "    for jsonfile in glob.glob(\"*.json\"): \n",
    "        extracted_data = pd.concat([extracted_data, pd.DataFrame(extract_from_json(jsonfile))], ignore_index=True) \n",
    "     \n",
    "    # process all xml files \n",
    "    for xmlfile in glob.glob(\"*.xml\"): \n",
    "        extracted_data = pd.concat([extracted_data, pd.DataFrame(extract_from_xml(xmlfile))], ignore_index=True) \n",
    "         \n",
    "    return extracted_data     \n"
   ]
  },
  {
   "cell_type": "code",
   "execution_count": 37,
   "id": "3b38ea9b",
   "metadata": {},
   "outputs": [
    {
     "name": "stdout",
     "output_type": "stream",
     "text": [
      "Transformed Data\n",
      "        car_model year_of_manufacture     price    fuel\n",
      "0            ritz                2014   5000.00  Petrol\n",
      "1             sx4                2013   7089.55  Diesel\n",
      "2            ciaz                2017  10820.90  Petrol\n",
      "3         wagon r                2011   4253.73  Petrol\n",
      "4           swift                2014   6865.67  Diesel\n",
      "..            ...                 ...       ...     ...\n",
      "58        etios g                2014   6119.40  Petrol\n",
      "59       fortuner                2014  29835.82  Diesel\n",
      "60  corolla altis                2013  10373.13  Petrol\n",
      "61     etios liva                2014   5895.52  Diesel\n",
      "62  corolla altis                2016  21985.07  Diesel\n",
      "\n",
      "[63 rows x 4 columns]\n"
     ]
    },
    {
     "name": "stderr",
     "output_type": "stream",
     "text": [
      "C:\\Users\\16828\\AppData\\Local\\Temp\\ipykernel_42576\\365286566.py:11: FutureWarning: The behavior of DataFrame concatenation with empty or all-NA entries is deprecated. In a future version, this will no longer exclude empty or all-NA columns when determining the result dtypes. To retain the old behavior, exclude the relevant entries before the concat operation.\n",
      "  extracted_data = pd.concat([extracted_data, pd.DataFrame(extract_from_csv(csvfile))], ignore_index=True)\n",
      "C:\\Users\\16828\\AppData\\Local\\Temp\\ipykernel_42576\\159650625.py:24: FutureWarning: The behavior of DataFrame concatenation with empty or all-NA entries is deprecated. In a future version, this will no longer exclude empty or all-NA columns when determining the result dtypes. To retain the old behavior, exclude the relevant entries before the concat operation.\n",
      "  dataframe = pd.concat([dataframe, pd.DataFrame([{\"car_model\":car_model,\"year_of_manufacture\":year_of_manufacture, \"price\":price,\"fuel\": fuel}])], ignore_index=True)\n",
      "C:\\Users\\16828\\AppData\\Local\\Temp\\ipykernel_42576\\159650625.py:24: FutureWarning: The behavior of DataFrame concatenation with empty or all-NA entries is deprecated. In a future version, this will no longer exclude empty or all-NA columns when determining the result dtypes. To retain the old behavior, exclude the relevant entries before the concat operation.\n",
      "  dataframe = pd.concat([dataframe, pd.DataFrame([{\"car_model\":car_model,\"year_of_manufacture\":year_of_manufacture, \"price\":price,\"fuel\": fuel}])], ignore_index=True)\n",
      "C:\\Users\\16828\\AppData\\Local\\Temp\\ipykernel_42576\\159650625.py:24: FutureWarning: The behavior of DataFrame concatenation with empty or all-NA entries is deprecated. In a future version, this will no longer exclude empty or all-NA columns when determining the result dtypes. To retain the old behavior, exclude the relevant entries before the concat operation.\n",
      "  dataframe = pd.concat([dataframe, pd.DataFrame([{\"car_model\":car_model,\"year_of_manufacture\":year_of_manufacture, \"price\":price,\"fuel\": fuel}])], ignore_index=True)\n"
     ]
    }
   ],
   "source": [
    "from datetime import datetime \n",
    "\n",
    "def transform(data):\n",
    "    data['price'] = round(data.price, 2)\n",
    "    return data\n",
    "\n",
    "def load_data(target_file, transformed_data): \n",
    "    transformed_data.to_csv(target_file) \n",
    "  \n",
    "def log_progress(message): \n",
    "    timestamp_format = '%Y-%h-%d-%H:%M:%S' # Year-Monthname-Day-Hour-Minute-Second \n",
    "    now = datetime.now() # get current timestamp \n",
    "    timestamp = now.strftime(timestamp_format) \n",
    "    with open(log_file,\"a\") as f: \n",
    "        f.write(timestamp + ',' + message + '\\n') \n",
    "  \n",
    "# Log the initialization of the ETL process \n",
    "log_progress(\"ETL Job Started\") \n",
    "  \n",
    "# Log the beginning of the Extraction process \n",
    "log_progress(\"Extract phase Started\") \n",
    "extracted_data = extract() \n",
    "  \n",
    "# Log the completion of the Extraction process \n",
    "log_progress(\"Extract phase Ended\") \n",
    "  \n",
    "# Log the beginning of the Transformation process \n",
    "log_progress(\"Transform phase Started\") \n",
    "transformed_data = transform(extracted_data) \n",
    "print(\"Transformed Data\") \n",
    "print(transformed_data) \n",
    "  \n",
    "# Log the completion of the Transformation process \n",
    "log_progress(\"Transform phase Ended\") \n",
    "  \n",
    "# Log the beginning of the Loading process \n",
    "log_progress(\"Load phase Started\") \n",
    "load_data(target_file,transformed_data) \n",
    "  \n",
    "# Log the completion of the Loading process \n",
    "log_progress(\"Load phase Ended\") \n",
    "  \n",
    "# Log the completion of the ETL process \n",
    "log_progress(\"ETL Job Ended\") "
   ]
  },
  {
   "cell_type": "code",
   "execution_count": 45,
   "id": "2d34f67f",
   "metadata": {},
   "outputs": [
    {
     "name": "stdout",
     "output_type": "stream",
     "text": [
      "    Unnamed: 0      car_model  year_of_manufacture     price    fuel\n",
      "0            0           ritz                 2014   5000.00  Petrol\n",
      "1            1            sx4                 2013   7089.55  Diesel\n",
      "2            2           ciaz                 2017  10820.90  Petrol\n",
      "3            3        wagon r                 2011   4253.73  Petrol\n",
      "4            4          swift                 2014   6865.67  Diesel\n",
      "..         ...            ...                  ...       ...     ...\n",
      "58          58        etios g                 2014   6119.40  Petrol\n",
      "59          59       fortuner                 2014  29835.82  Diesel\n",
      "60          60  corolla altis                 2013  10373.13  Petrol\n",
      "61          61     etios liva                 2014   5895.52  Diesel\n",
      "62          62  corolla altis                 2016  21985.07  Diesel\n",
      "\n",
      "[63 rows x 5 columns]\n",
      "   2025-Aug-31-21:33:56          ETL Job Started\n",
      "0  2025-Aug-31-21:33:56    Extract phase Started\n",
      "1  2025-Aug-31-21:33:56      Extract phase Ended\n",
      "2  2025-Aug-31-21:33:56  Transform phase Started\n",
      "3  2025-Aug-31-21:33:56    Transform phase Ended\n",
      "4  2025-Aug-31-21:33:56       Load phase Started\n",
      "5  2025-Aug-31-21:33:56         Load phase Ended\n",
      "6  2025-Aug-31-21:33:56            ETL Job Ended\n"
     ]
    }
   ],
   "source": [
    "df = pd.read_csv(target_file)\n",
    "print(df)\n",
    "\n",
    "df2 = pd.read_csv(\"log_file.txt\")\n",
    "print(df2)"
   ]
  }
 ],
 "metadata": {
  "kernelspec": {
   "display_name": "Python 3",
   "language": "python",
   "name": "python3"
  },
  "language_info": {
   "codemirror_mode": {
    "name": "ipython",
    "version": 3
   },
   "file_extension": ".py",
   "mimetype": "text/x-python",
   "name": "python",
   "nbconvert_exporter": "python",
   "pygments_lexer": "ipython3",
   "version": "3.12.1"
  }
 },
 "nbformat": 4,
 "nbformat_minor": 5
}
