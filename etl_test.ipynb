{
 "cells": [
  {
   "cell_type": "code",
   "execution_count": 5,
   "id": "98be58fd",
   "metadata": {},
   "outputs": [
    {
     "name": "stdout",
     "output_type": "stream",
     "text": [
      "    Unnamed: 0      car_model  year_of_manufacture     price    fuel\n",
      "0            0           ritz                 2014   5000.00  Petrol\n",
      "1            1            sx4                 2013   7089.55  Diesel\n",
      "2            2           ciaz                 2017  10820.90  Petrol\n",
      "3            3        wagon r                 2011   4253.73  Petrol\n",
      "4            4          swift                 2014   6865.67  Diesel\n",
      "..         ...            ...                  ...       ...     ...\n",
      "85          85          camry                 2006   3731.34  Petrol\n",
      "86          86   land cruiser                 2010  52238.81  Diesel\n",
      "87          87  corolla altis                 2012   8805.97  Petrol\n",
      "88          88     etios liva                 2013   5149.25  Petrol\n",
      "89          89        etios g                 2014   7089.55  Petrol\n",
      "\n",
      "[90 rows x 5 columns]\n"
     ]
    }
   ],
   "source": [
    "import pandas as pd\n",
    "\n",
    "csv_file = pd.read_csv(\"transformed_data.csv\")\n",
    "\n",
    "print(csv_file)"
   ]
  }
 ],
 "metadata": {
  "kernelspec": {
   "display_name": "Python 3",
   "language": "python",
   "name": "python3"
  },
  "language_info": {
   "codemirror_mode": {
    "name": "ipython",
    "version": 3
   },
   "file_extension": ".py",
   "mimetype": "text/x-python",
   "name": "python",
   "nbconvert_exporter": "python",
   "pygments_lexer": "ipython3",
   "version": "3.12.1"
  }
 },
 "nbformat": 4,
 "nbformat_minor": 5
}
